{
 "cells": [
  {
   "cell_type": "markdown",
   "metadata": {},
   "source": [
    "## Install TensorTrade"
   ]
  },
  {
   "cell_type": "code",
   "execution_count": 1,
   "metadata": {},
   "outputs": [],
   "source": [
    "## Setup Data Fetching"
   ]
  },
  {
   "cell_type": "code",
   "execution_count": 2,
   "metadata": {},
   "outputs": [],
   "source": [
    "import inspect\n",
    "import sys\n",
    "import os\n",
    "currentdir = os.path.dirname(os.path.abspath(inspect.getfile(inspect.currentframe())))\n",
    "parentdir = os.path.dirname(currentdir)\n",
    "sys.path.insert(0, \"{}\".format(parentdir))"
   ]
  },
  {
   "cell_type": "code",
   "execution_count": 3,
   "metadata": {},
   "outputs": [],
   "source": [
    "import ssl\n",
    "import pandas as pd\n",
    "\n",
    "from tensortrade.utils import CryptoDataDownload\n",
    "\n",
    "ssl._create_default_https_context = ssl._create_unverified_context # Only used if pandas gives a SSLError\n",
    "\n",
    "cdd = CryptoDataDownload()"
   ]
  },
  {
   "cell_type": "code",
   "execution_count": 5,
   "metadata": {},
   "outputs": [],
   "source": [
    "data = pd.concat([\n",
    "    cdd.fetch(\"Coinbase\", \"USD\", \"BTC\", \"1h\")\n",
    "    #cdd.fetch(\"Coinbase\", \"USD\", \"ETH\", \"1h\").add_prefix(\"ETH:\")\n",
    "], axis=1)\n",
    "#data = data.drop([\"ETH:date\"], axis=1)\n",
    "#data = data.rename({\"BTC:date\": \"date\"}, axis=1)"
   ]
  },
  {
   "cell_type": "code",
   "execution_count": 6,
   "metadata": {},
   "outputs": [
    {
     "output_type": "execute_result",
     "data": {
      "text/plain": "                 date  unix timestamp     open     high      low    close  \\\n0 2017-07-01 11:00:00    1.498907e+09  2505.56  2513.38  2495.12  2509.17   \n1 2017-07-01 12:00:00    1.498910e+09  2509.17  2512.87  2484.99  2488.43   \n2 2017-07-01 13:00:00    1.498914e+09  2488.43  2488.43  2454.40  2454.43   \n3 2017-07-01 14:00:00    1.498918e+09  2454.43  2473.93  2450.83  2459.35   \n4 2017-07-01 15:00:00    1.498921e+09  2459.35  2475.00  2450.00  2467.83   \n\n      volume  \n0  287000.32  \n1  393142.50  \n2  693254.01  \n3  712864.80  \n4  682105.41  ",
      "text/html": "<div>\n<style scoped>\n    .dataframe tbody tr th:only-of-type {\n        vertical-align: middle;\n    }\n\n    .dataframe tbody tr th {\n        vertical-align: top;\n    }\n\n    .dataframe thead th {\n        text-align: right;\n    }\n</style>\n<table border=\"1\" class=\"dataframe\">\n  <thead>\n    <tr style=\"text-align: right;\">\n      <th></th>\n      <th>date</th>\n      <th>unix timestamp</th>\n      <th>open</th>\n      <th>high</th>\n      <th>low</th>\n      <th>close</th>\n      <th>volume</th>\n    </tr>\n  </thead>\n  <tbody>\n    <tr>\n      <th>0</th>\n      <td>2017-07-01 11:00:00</td>\n      <td>1.498907e+09</td>\n      <td>2505.56</td>\n      <td>2513.38</td>\n      <td>2495.12</td>\n      <td>2509.17</td>\n      <td>287000.32</td>\n    </tr>\n    <tr>\n      <th>1</th>\n      <td>2017-07-01 12:00:00</td>\n      <td>1.498910e+09</td>\n      <td>2509.17</td>\n      <td>2512.87</td>\n      <td>2484.99</td>\n      <td>2488.43</td>\n      <td>393142.50</td>\n    </tr>\n    <tr>\n      <th>2</th>\n      <td>2017-07-01 13:00:00</td>\n      <td>1.498914e+09</td>\n      <td>2488.43</td>\n      <td>2488.43</td>\n      <td>2454.40</td>\n      <td>2454.43</td>\n      <td>693254.01</td>\n    </tr>\n    <tr>\n      <th>3</th>\n      <td>2017-07-01 14:00:00</td>\n      <td>1.498918e+09</td>\n      <td>2454.43</td>\n      <td>2473.93</td>\n      <td>2450.83</td>\n      <td>2459.35</td>\n      <td>712864.80</td>\n    </tr>\n    <tr>\n      <th>4</th>\n      <td>2017-07-01 15:00:00</td>\n      <td>1.498921e+09</td>\n      <td>2459.35</td>\n      <td>2475.00</td>\n      <td>2450.00</td>\n      <td>2467.83</td>\n      <td>682105.41</td>\n    </tr>\n  </tbody>\n</table>\n</div>"
     },
     "metadata": {},
     "execution_count": 6
    }
   ],
   "source": [
    "data.head()"
   ]
  },
  {
   "cell_type": "markdown",
   "metadata": {},
   "source": [
    "## Create features with the data module"
   ]
  },
  {
   "cell_type": "code",
   "execution_count": 8,
   "metadata": {},
   "outputs": [
    {
     "output_type": "execute_result",
     "data": {
      "text/plain": "                 date  unix timestamp     open     high      low    close  \\\n0 2017-07-01 11:00:00    1.498907e+09  2505.56  2513.38  2495.12  2509.17   \n1 2017-07-01 12:00:00    1.498910e+09  2509.17  2512.87  2484.99  2488.43   \n2 2017-07-01 13:00:00    1.498914e+09  2488.43  2488.43  2454.40  2454.43   \n3 2017-07-01 14:00:00    1.498918e+09  2454.43  2473.93  2450.83  2459.35   \n4 2017-07-01 15:00:00    1.498921e+09  2459.35  2475.00  2450.00  2467.83   \n\n      volume    volume_adi  volume_obv  volume_cmf  ...  momentum_uo  \\\n0  287000.32  1.546595e+05   287000.32    0.538883  ...     0.000000   \n1  393142.50 -1.414664e+05  -106142.18   -0.207995  ...     7.455570   \n2  693254.01 -8.334981e+05  -799396.19   -0.606888  ...     4.328302   \n3  712864.80 -1.020509e+06   -86531.39   -0.489157  ...    11.610342   \n4  682105.41 -7.296597e+05   595574.02   -0.263570  ...    23.247837   \n\n   momentum_stoch  momentum_stoch_signal  momentum_wr  momentum_ao  \\\n0       76.944140              76.944140   -23.055860          0.0   \n1       12.116943              44.530541   -87.883057          0.0   \n2        0.050865              29.703982   -99.949135          0.0   \n3       13.621103               8.596303   -86.378897          0.0   \n4       28.131903              13.934624   -71.868097          0.0   \n\n   momentum_kama  momentum_roc  others_dr  others_dlr  others_cr  \n0    2509.170000           0.0 -67.089655    0.000000   0.000000  \n1    2499.529881           0.0  -0.826568   -0.830003  -0.826568  \n2    2478.933617           0.0  -1.366323   -1.375743  -2.181598  \n3    2470.163427           0.0   0.200454    0.200253  -1.985517  \n4    2469.130885           0.0   0.344807    0.344213  -1.647557  \n\n[5 rows x 79 columns]",
      "text/html": "<div>\n<style scoped>\n    .dataframe tbody tr th:only-of-type {\n        vertical-align: middle;\n    }\n\n    .dataframe tbody tr th {\n        vertical-align: top;\n    }\n\n    .dataframe thead th {\n        text-align: right;\n    }\n</style>\n<table border=\"1\" class=\"dataframe\">\n  <thead>\n    <tr style=\"text-align: right;\">\n      <th></th>\n      <th>date</th>\n      <th>unix timestamp</th>\n      <th>open</th>\n      <th>high</th>\n      <th>low</th>\n      <th>close</th>\n      <th>volume</th>\n      <th>volume_adi</th>\n      <th>volume_obv</th>\n      <th>volume_cmf</th>\n      <th>...</th>\n      <th>momentum_uo</th>\n      <th>momentum_stoch</th>\n      <th>momentum_stoch_signal</th>\n      <th>momentum_wr</th>\n      <th>momentum_ao</th>\n      <th>momentum_kama</th>\n      <th>momentum_roc</th>\n      <th>others_dr</th>\n      <th>others_dlr</th>\n      <th>others_cr</th>\n    </tr>\n  </thead>\n  <tbody>\n    <tr>\n      <th>0</th>\n      <td>2017-07-01 11:00:00</td>\n      <td>1.498907e+09</td>\n      <td>2505.56</td>\n      <td>2513.38</td>\n      <td>2495.12</td>\n      <td>2509.17</td>\n      <td>287000.32</td>\n      <td>1.546595e+05</td>\n      <td>287000.32</td>\n      <td>0.538883</td>\n      <td>...</td>\n      <td>0.000000</td>\n      <td>76.944140</td>\n      <td>76.944140</td>\n      <td>-23.055860</td>\n      <td>0.0</td>\n      <td>2509.170000</td>\n      <td>0.0</td>\n      <td>-67.089655</td>\n      <td>0.000000</td>\n      <td>0.000000</td>\n    </tr>\n    <tr>\n      <th>1</th>\n      <td>2017-07-01 12:00:00</td>\n      <td>1.498910e+09</td>\n      <td>2509.17</td>\n      <td>2512.87</td>\n      <td>2484.99</td>\n      <td>2488.43</td>\n      <td>393142.50</td>\n      <td>-1.414664e+05</td>\n      <td>-106142.18</td>\n      <td>-0.207995</td>\n      <td>...</td>\n      <td>7.455570</td>\n      <td>12.116943</td>\n      <td>44.530541</td>\n      <td>-87.883057</td>\n      <td>0.0</td>\n      <td>2499.529881</td>\n      <td>0.0</td>\n      <td>-0.826568</td>\n      <td>-0.830003</td>\n      <td>-0.826568</td>\n    </tr>\n    <tr>\n      <th>2</th>\n      <td>2017-07-01 13:00:00</td>\n      <td>1.498914e+09</td>\n      <td>2488.43</td>\n      <td>2488.43</td>\n      <td>2454.40</td>\n      <td>2454.43</td>\n      <td>693254.01</td>\n      <td>-8.334981e+05</td>\n      <td>-799396.19</td>\n      <td>-0.606888</td>\n      <td>...</td>\n      <td>4.328302</td>\n      <td>0.050865</td>\n      <td>29.703982</td>\n      <td>-99.949135</td>\n      <td>0.0</td>\n      <td>2478.933617</td>\n      <td>0.0</td>\n      <td>-1.366323</td>\n      <td>-1.375743</td>\n      <td>-2.181598</td>\n    </tr>\n    <tr>\n      <th>3</th>\n      <td>2017-07-01 14:00:00</td>\n      <td>1.498918e+09</td>\n      <td>2454.43</td>\n      <td>2473.93</td>\n      <td>2450.83</td>\n      <td>2459.35</td>\n      <td>712864.80</td>\n      <td>-1.020509e+06</td>\n      <td>-86531.39</td>\n      <td>-0.489157</td>\n      <td>...</td>\n      <td>11.610342</td>\n      <td>13.621103</td>\n      <td>8.596303</td>\n      <td>-86.378897</td>\n      <td>0.0</td>\n      <td>2470.163427</td>\n      <td>0.0</td>\n      <td>0.200454</td>\n      <td>0.200253</td>\n      <td>-1.985517</td>\n    </tr>\n    <tr>\n      <th>4</th>\n      <td>2017-07-01 15:00:00</td>\n      <td>1.498921e+09</td>\n      <td>2459.35</td>\n      <td>2475.00</td>\n      <td>2450.00</td>\n      <td>2467.83</td>\n      <td>682105.41</td>\n      <td>-7.296597e+05</td>\n      <td>595574.02</td>\n      <td>-0.263570</td>\n      <td>...</td>\n      <td>23.247837</td>\n      <td>28.131903</td>\n      <td>13.934624</td>\n      <td>-71.868097</td>\n      <td>0.0</td>\n      <td>2469.130885</td>\n      <td>0.0</td>\n      <td>0.344807</td>\n      <td>0.344213</td>\n      <td>-1.647557</td>\n    </tr>\n  </tbody>\n</table>\n<p>5 rows × 79 columns</p>\n</div>"
     },
     "metadata": {},
     "execution_count": 8
    }
   ],
   "source": [
    "import ta\n",
    "dataset = ta.add_all_ta_features(data, 'open', 'high', 'low', 'close', 'volume', fillna=True)\n",
    "dataset.head()"
   ]
  },
  {
   "cell_type": "code",
   "execution_count": 9,
   "metadata": {},
   "outputs": [],
   "source": [
    "from tensortrade.data import Node, Module, DataFeed, Stream, Select\n",
    "\n",
    "\n",
    "def rsi(price: Node, period: float):\n",
    "    r = price.diff()\n",
    "    upside = r.clamp_min(0).abs()\n",
    "    downside = r.clamp_max(0).abs()\n",
    "    rs = upside.ewm(alpha=1 / period).mean() / downside.ewm(alpha=1 / period).mean()\n",
    "    return 100*(1 - (1 + rs) ** -1)\n",
    "\n",
    "\n",
    "def macd(price: Node, fast: float, slow: float, signal: float) -> Node:\n",
    "    fm = price.ewm(span=fast, adjust=False).mean()\n",
    "    sm = price.ewm(span=slow, adjust=False).mean()\n",
    "    md = fm - sm\n",
    "    signal = md - md.ewm(span=signal, adjust=False).mean()\n",
    "    return signal\n",
    "\n",
    "\n",
    "features = []\n",
    "for c in data.columns[1:]:\n",
    "    s = Stream(list(data[c])).rename(data[c].name)\n",
    "    features += [s]\n",
    "\n",
    "btc_close = Select(\"close\")(*features)\n",
    "#eth_close = Select(\"ETH:close\")(*features)\n",
    "\n",
    "features += [\n",
    "    rsi(btc_close, period=20).rename(\"rsi\"),\n",
    "    macd(btc_close, fast=10, slow=50, signal=5).rename(\"macd\")\n",
    "    #rsi(eth_close, period=20).rename(\"ETH:rsi\"),\n",
    "    #macd(eth_close, fast=10, slow=50, signal=5).rename(\"ETH:macd\")\n",
    "]\n",
    "        \n"
   ]
  },
  {
   "cell_type": "code",
   "execution_count": 11,
   "metadata": {},
   "outputs": [],
   "source": []
  },
  {
   "cell_type": "code",
   "execution_count": 12,
   "metadata": {},
   "outputs": [],
   "source": [
    "# Get Features\n",
    "features = []\n",
    "# exclude date column\n",
    "for c in dataset.columns[1:]:\n",
    "    s = Stream(list(dataset[c])).rename(dataset[c].name)\n",
    "    features += [s]\n",
    "feed = DataFeed(features)\n",
    "feed.compile()"
   ]
  },
  {
   "cell_type": "code",
   "execution_count": 15,
   "metadata": {},
   "outputs": [
    {
     "output_type": "execute_result",
     "data": {
      "text/plain": "{'unix timestamp': 1498914000.0,\n 'open': 2488.43,\n 'high': 2488.43,\n 'low': 2454.4,\n 'close': 2454.43,\n 'volume': 693254.01,\n 'volume_adi': -833498.1482762388,\n 'volume_obv': -799396.19,\n 'volume_cmf': -0.6068880676506576,\n 'volume_fi': -10356184.14857151,\n 'momentum_mfi': 0.0,\n 'volume_em': -135063.8346830462,\n 'volume_sma_em': -86395.51005917703,\n 'volume_vpt': -12721.682056263691,\n 'volume_nvi': 1000.0,\n 'volume_vwap': 2482.6358501672094,\n 'volatility_atr': 0.0,\n 'volatility_bbm': 2484.01,\n 'volatility_bbh': 2529.1400107098007,\n 'volatility_bbl': 2438.8799892902,\n 'volatility_bbw': 3.633641628640822,\n 'volatility_bbp': 0.17228015754074724,\n 'volatility_bbhi': 0.0,\n 'volatility_bbli': 0.0,\n 'volatility_kcc': 2489.0244444444447,\n 'volatility_kch': 2515.7477777777776,\n 'volatility_kcl': 2462.301111111111,\n 'volatility_kcw': 2.14729376346467,\n 'volatility_kcp': -0.14727038376782592,\n 'volatility_kchi': 0.0,\n 'volatility_kcli': 1.0,\n 'volatility_dcl': 2.374386576543573,\n 'volatility_dch': 0.0005086469989783882,\n 'trend_macd': -5.644108732883524,\n 'trend_macd_signal': -1.393537416092422,\n 'trend_macd_diff': -4.250571316791102,\n 'trend_sma_fast': 2484.01,\n 'trend_sma_slow': 2484.01,\n 'trend_ema_fast': 2498.0485798816567,\n 'trend_ema_slow': 2503.69268861454,\n 'trend_adx': 0.0,\n 'trend_adx_pos': 0.0,\n 'trend_adx_neg': 0.0,\n 'trend_vortex_ind_pos': 0.004082026392651111,\n 'trend_vortex_ind_neg': 0.016732648063505197,\n 'trend_vortex_ind_diff': -0.012650621670854085,\n 'trend_trix': -0.006884429773376883,\n 'trend_mass_index': 3.2592500030978897,\n 'trend_cci': -100.00000000000196,\n 'trend_dpo': 5140.249239208374,\n 'trend_kst': -674.1965452557312,\n 'trend_kst_sig': -672.449927486206,\n 'trend_kst_diff': -1.7466177695251872,\n 'trend_ichimoku_conv': 2483.8900000000003,\n 'trend_ichimoku_base': 2483.8900000000003,\n 'trend_ichimoku_a': 2483.8900000000003,\n 'trend_ichimoku_b': 2483.8900000000003,\n 'trend_visual_ichimoku_a': 7611.557963035996,\n 'trend_visual_ichimoku_b': 7600.847856733113,\n 'trend_aroon_up': 4.0,\n 'trend_aroon_down': 12.0,\n 'trend_aroon_ind': -8.0,\n 'trend_psar_up': -1.0,\n 'trend_psar_down': 2513.38,\n 'trend_psar_up_indicator': 0.0,\n 'trend_psar_down_indicator': 1.0,\n 'momentum_rsi': 0.0,\n 'momentum_tsi': -100.0,\n 'momentum_uo': 4.32830235749008,\n 'momentum_stoch': 0.050864699897838817,\n 'momentum_stoch_signal': 29.70398249415587,\n 'momentum_wr': -99.94913530010216,\n 'momentum_ao': 0.0,\n 'momentum_kama': 2478.9336170396928,\n 'momentum_roc': 0.0,\n 'others_dr': -1.3663233444380585,\n 'others_dlr': -1.375743446296962,\n 'others_cr': -2.1815978989068174}"
     },
     "metadata": {},
     "execution_count": 15
    }
   ],
   "source": [
    "feed.next()"
   ]
  },
  {
   "cell_type": "markdown",
   "metadata": {},
   "source": [
    "## Setup Trading Environment"
   ]
  },
  {
   "cell_type": "code",
   "execution_count": 17,
   "metadata": {},
   "outputs": [],
   "source": [
    "from tensortrade.exchanges import Exchange\n",
    "from tensortrade.exchanges.services.execution.simulated import execute_order\n",
    "from tensortrade.data import Stream, DataFeed, Module\n",
    "from tensortrade.instruments import USD, BTC, ETH\n",
    "from tensortrade.wallets import Wallet, Portfolio\n",
    "from tensortrade.environments import TradingEnvironment\n",
    "\n",
    "\n",
    "coinbase = Exchange(\"coinbase\", service=execute_order)(\n",
    "    Stream(list(data[\"close\"])).rename(\"USD-BTC\"),\n",
    "    #Stream(list(data[\"ETH:close\"])).rename(\"USD-ETH\")\n",
    ")\n",
    "\n",
    "portfolio = Portfolio(USD, [\n",
    "    Wallet(coinbase, 10000 * USD),\n",
    "    Wallet(coinbase, 10 * BTC),\n",
    "    #Wallet(coinbase, 5 * ETH),\n",
    "])"
   ]
  },
  {
   "cell_type": "markdown",
   "metadata": {},
   "source": [
    "## Example Data Feed Observation\n",
    "\n",
    "Even though this observation contains data from the internal data feed, since `use_internal=False` this data will not be provided as input to the observation history. The data that will be added to observation history of the environment will strictly be the nodes that have been included into the data feed that has been provided as a parameter to the trading environment."
   ]
  },
  {
   "cell_type": "code",
   "execution_count": 18,
   "metadata": {},
   "outputs": [
    {
     "output_type": "execute_result",
     "data": {
      "text/plain": "{'unix timestamp': 1498906800.0,\n 'open': 2505.56,\n 'high': 2513.38,\n 'low': 2495.12,\n 'close': 2509.17,\n 'volume': 287000.32,\n 'volume_adi': 154659.5371741516,\n 'volume_obv': 287000.32,\n 'volume_cmf': 0.5388828039430464,\n 'volume_fi': 0.0,\n 'momentum_mfi': 50.0,\n 'volume_em': 0.0,\n 'volume_sma_em': 0.0,\n 'volume_vpt': -193179.4152008041,\n 'volume_nvi': 1000.0,\n 'volume_vwap': 2505.89,\n 'volatility_atr': 0.0,\n 'volatility_bbm': 2509.17,\n 'volatility_bbh': 2509.17,\n 'volatility_bbl': 2509.17,\n 'volatility_bbw': 0.0,\n 'volatility_bbp': 0.0,\n 'volatility_bbhi': 0.0,\n 'volatility_bbli': 0.0,\n 'volatility_kcc': 2505.89,\n 'volatility_kch': 2524.15,\n 'volatility_kcl': 2487.6299999999997,\n 'volatility_kcw': 1.457366444656407,\n 'volatility_kcp': 0.5898138006571786,\n 'volatility_kchi': 0.0,\n 'volatility_kcli': 0.0,\n 'volatility_dcl': 0.7277306838516409,\n 'volatility_dch': 0.7694414019715232,\n 'trend_macd': 0.0,\n 'trend_macd_signal': 0.0,\n 'trend_macd_diff': 0.0,\n 'trend_sma_fast': 2509.17,\n 'trend_sma_slow': 2509.17,\n 'trend_ema_fast': 2509.17,\n 'trend_ema_slow': 2509.17,\n 'trend_adx': 0.0,\n 'trend_adx_pos': 0.0,\n 'trend_adx_neg': 0.0,\n 'trend_vortex_ind_pos': 0.0,\n 'trend_vortex_ind_neg': 0.0,\n 'trend_vortex_ind_diff': 0.0,\n 'trend_trix': -67.0639198192557,\n 'trend_mass_index': 1.0,\n 'trend_cci': 0.0,\n 'trend_dpo': 5115.089239208374,\n 'trend_kst': -670.8965525337348,\n 'trend_kst_sig': -670.8965525337348,\n 'trend_kst_diff': 0.0,\n 'trend_ichimoku_conv': 2504.25,\n 'trend_ichimoku_base': 2504.25,\n 'trend_ichimoku_a': 2504.25,\n 'trend_ichimoku_b': 2504.25,\n 'trend_visual_ichimoku_a': 7611.557963035996,\n 'trend_visual_ichimoku_b': 7600.847856733113,\n 'trend_aroon_up': 4.0,\n 'trend_aroon_down': 4.0,\n 'trend_aroon_ind': 0.0,\n 'trend_psar_up': -1.0,\n 'trend_psar_down': -1.0,\n 'trend_psar_up_indicator': 0.0,\n 'trend_psar_down_indicator': 0.0,\n 'momentum_rsi': 100.0,\n 'momentum_tsi': 0.0,\n 'momentum_uo': 0.0,\n 'momentum_stoch': 76.94414019715232,\n 'momentum_stoch_signal': 76.94414019715232,\n 'momentum_wr': -23.055859802847678,\n 'momentum_ao': 0.0,\n 'momentum_kama': 2509.17,\n 'momentum_roc': 0.0,\n 'others_dr': -67.08965525337348,\n 'others_dlr': 0.0,\n 'others_cr': 0.0,\n 'coinbase:/USD-BTC': 2509.17,\n 'coinbase:/USD:/free': 10000.0,\n 'coinbase:/USD:/locked': 0.0,\n 'coinbase:/USD:/total': 10000.0,\n 'coinbase:/BTC:/free': 10.0,\n 'coinbase:/BTC:/locked': 0.0,\n 'coinbase:/BTC:/total': 10.0,\n 'coinbase:/BTC:/worth': 25091.7,\n 'net_worth': 35091.7}"
     },
     "metadata": {},
     "execution_count": 18
    }
   ],
   "source": [
    "from tensortrade.environments.render import PlotlyTradingChart\n",
    "from tensortrade.environments.render import FileLogger\n",
    "\n",
    "chart_renderer = PlotlyTradingChart(\n",
    "    display=True,  # show the chart on screen (default)\n",
    "    height=800,  # affects both displayed and saved file height. None for 100% height.\n",
    "    save_format='html',  # save the chart to an HTML file\n",
    "    auto_open_html=True,  # open the saved HTML chart in a new browser tab\n",
    ")\n",
    "\n",
    "file_logger = FileLogger(\n",
    "    filename='example.log',  # omit or None for automatic file name\n",
    "    path='training_logs'  # create a new directory if doesn't exist, None for no directory\n",
    ")\n",
    "\n",
    "env = TradingEnvironment(\n",
    "    feed=feed,\n",
    "    portfolio=portfolio,\n",
    "    use_internal=False,\n",
    "    action_scheme=\"managed-risk\",\n",
    "    reward_scheme=\"risk-adjusted\",\n",
    "    window_size=20\n",
    ")\n",
    "\n",
    "env.feed.next()"
   ]
  },
  {
   "cell_type": "markdown",
   "metadata": {},
   "source": [
    "## Setup and Train DQN Agent"
   ]
  },
  {
   "cell_type": "code",
   "execution_count": null,
   "metadata": {
    "tags": [
     "outputPrepend"
    ]
   },
   "outputs": [],
   "source": [
    "import gym\n",
    "\n",
    "from stable_baselines.common.vec_env import DummyVecEnv\n",
    "from stable_baselines.common.policies import MlpPolicy, MlpLnLstmPolicy\n",
    "from stable_baselines import DQN, PPO2, A2C"
   ]
  },
  {
   "cell_type": "code",
   "execution_count": null,
   "metadata": {},
   "outputs": [],
   "source": [
    "# DQN-Model\n",
    "from stable_baselines.deepq.policies import MlpPolicy\n",
    "agent = DQN(MlpPolicy, env, verbose=1, tensorboard_log=os.path.join(currentdir,\"tf_board_log\",\"DQN\"))\n",
    "agent.learn(total_timesteps=25000)\n",
    "agent.save(save_path=os.path.join(currentdir, \"agents\",\"DQN_MlpPolicys.zip\"))"
   ]
  },
  {
   "cell_type": "code",
   "execution_count": null,
   "metadata": {},
   "outputs": [],
   "source": [
    "# PPO2-Model\n",
    "agent = PPO2(MlpPolicy, env, verbose=1)\n",
    "agent.learn(total_timesteps=25000)\n",
    "agent.save(save_path=os.path.join(currentdir, \"agents\",\"PPO2_MlpPolicy.zip\"))"
   ]
  },
  {
   "cell_type": "code",
   "execution_count": null,
   "metadata": {},
   "outputs": [],
   "source": [
    "# A2C-Model\n",
    "agent = A2C(MlpPolicy, env, verbose=1)\n",
    "agent.learn(total_timesteps=25000)\n",
    "agent.save(save_path=os.path.join(currentdir, \"agents\",\"A2C_MlpPolicy.zip\"))"
   ]
  },
  {
   "cell_type": "code",
   "execution_count": null,
   "metadata": {},
   "outputs": [],
   "source": [
    "from stable_baselines.common.policies import MlpLnLstmPolicy\n",
    "from stable_baselines import PPO2\n",
    "\n",
    "model = PPO2\n",
    "policy = MlpLnLstmPolicy\n",
    "params = { \"learning_rate\": 1e-5 }\n",
    "\n",
    "agent = model(policy, env, learning_rate=1e-5, nminibatches=1)\n",
    "agent.learn(total_timesteps=25000)\n",
    "agent.save(save_path = os.path.join(currentdir, \"agents\",\"MlpLnLstmPolicy.zip\"))"
   ]
  },
  {
   "cell_type": "markdown",
   "metadata": {},
   "source": [
    "## Plot Performance"
   ]
  },
  {
   "cell_type": "code",
   "execution_count": null,
   "metadata": {},
   "outputs": [],
   "source": [
    "%matplotlib inline\n",
    "\n",
    "portfolio.performance.plot()"
   ]
  },
  {
   "cell_type": "code",
   "execution_count": null,
   "metadata": {},
   "outputs": [],
   "source": [
    "portfolio.performance.net_worth.plot()"
   ]
  },
  {
   "cell_type": "markdown",
   "metadata": {},
   "source": [
    "## Setup and Train Parallel DQN Agent"
   ]
  },
  {
   "cell_type": "code",
   "execution_count": null,
   "metadata": {
    "tags": []
   },
   "outputs": [],
   "source": [
    "from tensortrade.agents import ParallelDQNAgent\n",
    "\n",
    "def create_env():\n",
    "    \n",
    "    env = TradingEnvironment(\n",
    "        feed=feed,\n",
    "        portfolio=portfolio,\n",
    "        action_scheme='managed-risk',\n",
    "        reward_scheme='risk-adjusted',\n",
    "        window_size=20\n",
    "    )\n",
    "    \n",
    "    return env\n",
    "\n",
    "agent = ParallelDQNAgent(create_env)\n",
    "\n",
    "agent.train(n_envs=4, n_steps=200, save_path=currentdir + \"/examples/agents/ParallelDQNAgent.zip\")"
   ]
  },
  {
   "cell_type": "markdown",
   "metadata": {},
   "source": [
    "## Test Agent\n"
   ]
  },
  {
   "cell_type": "markdown",
   "metadata": {},
   "source": [
    "### Environment with Multiple Renderers\n",
    "Create PlotlyTradingChart and FileLogger renderers. Configuring renderers is optional as they can be used with their default settings."
   ]
  },
  {
   "cell_type": "code",
   "execution_count": 61,
   "metadata": {
    "tags": []
   },
   "outputs": [
    {
     "output_type": "error",
     "ename": "AssertionError",
     "evalue": "Error: the environment passed is not a vectorized environment, however PPO2 requires it",
     "traceback": [
      "\u001b[1;31m---------------------------------------------------------------------------\u001b[0m",
      "\u001b[1;31mAssertionError\u001b[0m                            Traceback (most recent call last)",
      "\u001b[1;32m<ipython-input-61-dbf261038247>\u001b[0m in \u001b[0;36m<module>\u001b[1;34m\u001b[0m\n\u001b[0;32m      1\u001b[0m \u001b[1;31m# test agent\u001b[0m\u001b[1;33m\u001b[0m\u001b[1;33m\u001b[0m\u001b[1;33m\u001b[0m\u001b[0m\n\u001b[0;32m      2\u001b[0m \u001b[1;31m# multiprocess environment\u001b[0m\u001b[1;33m\u001b[0m\u001b[1;33m\u001b[0m\u001b[1;33m\u001b[0m\u001b[0m\n\u001b[1;32m----> 3\u001b[1;33m \u001b[0magent\u001b[0m \u001b[1;33m=\u001b[0m \u001b[0mPPO2\u001b[0m\u001b[1;33m.\u001b[0m\u001b[0mload\u001b[0m\u001b[1;33m(\u001b[0m\u001b[0mload_path\u001b[0m\u001b[1;33m=\u001b[0m\u001b[0mos\u001b[0m\u001b[1;33m.\u001b[0m\u001b[0mpath\u001b[0m\u001b[1;33m.\u001b[0m\u001b[0mjoin\u001b[0m\u001b[1;33m(\u001b[0m\u001b[0mcurrentdir\u001b[0m\u001b[1;33m,\u001b[0m \u001b[1;34m\"agents\"\u001b[0m\u001b[1;33m,\u001b[0m\u001b[1;34m\"MlpPolicy.zip\"\u001b[0m\u001b[1;33m)\u001b[0m\u001b[1;33m,\u001b[0m \u001b[0menv\u001b[0m\u001b[1;33m=\u001b[0m\u001b[0menv\u001b[0m\u001b[1;33m)\u001b[0m\u001b[1;33m\u001b[0m\u001b[1;33m\u001b[0m\u001b[0m\n\u001b[0m\u001b[0;32m      4\u001b[0m \u001b[0mdone\u001b[0m \u001b[1;33m=\u001b[0m \u001b[1;32mFalse\u001b[0m\u001b[1;33m\u001b[0m\u001b[1;33m\u001b[0m\u001b[0m\n\u001b[0;32m      5\u001b[0m \u001b[0mobs\u001b[0m \u001b[1;33m=\u001b[0m \u001b[0menv\u001b[0m\u001b[1;33m.\u001b[0m\u001b[0mreset\u001b[0m\u001b[1;33m(\u001b[0m\u001b[1;33m)\u001b[0m\u001b[1;33m\u001b[0m\u001b[1;33m\u001b[0m\u001b[0m\n",
      "\u001b[1;32mD:\\tools\\Anaconda\\envs\\rl_sb\\lib\\site-packages\\stable_baselines\\common\\base_class.py\u001b[0m in \u001b[0;36mload\u001b[1;34m(cls, load_path, env, custom_objects, **kwargs)\u001b[0m\n\u001b[0;32m    944\u001b[0m         \u001b[0mmodel\u001b[0m\u001b[1;33m.\u001b[0m\u001b[0m__dict__\u001b[0m\u001b[1;33m.\u001b[0m\u001b[0mupdate\u001b[0m\u001b[1;33m(\u001b[0m\u001b[0mdata\u001b[0m\u001b[1;33m)\u001b[0m\u001b[1;33m\u001b[0m\u001b[1;33m\u001b[0m\u001b[0m\n\u001b[0;32m    945\u001b[0m         \u001b[0mmodel\u001b[0m\u001b[1;33m.\u001b[0m\u001b[0m__dict__\u001b[0m\u001b[1;33m.\u001b[0m\u001b[0mupdate\u001b[0m\u001b[1;33m(\u001b[0m\u001b[0mkwargs\u001b[0m\u001b[1;33m)\u001b[0m\u001b[1;33m\u001b[0m\u001b[1;33m\u001b[0m\u001b[0m\n\u001b[1;32m--> 946\u001b[1;33m         \u001b[0mmodel\u001b[0m\u001b[1;33m.\u001b[0m\u001b[0mset_env\u001b[0m\u001b[1;33m(\u001b[0m\u001b[0menv\u001b[0m\u001b[1;33m)\u001b[0m\u001b[1;33m\u001b[0m\u001b[1;33m\u001b[0m\u001b[0m\n\u001b[0m\u001b[0;32m    947\u001b[0m         \u001b[0mmodel\u001b[0m\u001b[1;33m.\u001b[0m\u001b[0msetup_model\u001b[0m\u001b[1;33m(\u001b[0m\u001b[1;33m)\u001b[0m\u001b[1;33m\u001b[0m\u001b[1;33m\u001b[0m\u001b[0m\n\u001b[0;32m    948\u001b[0m \u001b[1;33m\u001b[0m\u001b[0m\n",
      "\u001b[1;32mD:\\tools\\Anaconda\\envs\\rl_sb\\lib\\site-packages\\stable_baselines\\common\\base_class.py\u001b[0m in \u001b[0;36mset_env\u001b[1;34m(self, env)\u001b[0m\n\u001b[0;32m    797\u001b[0m     \u001b[1;32mdef\u001b[0m \u001b[0mset_env\u001b[0m\u001b[1;33m(\u001b[0m\u001b[0mself\u001b[0m\u001b[1;33m,\u001b[0m \u001b[0menv\u001b[0m\u001b[1;33m)\u001b[0m\u001b[1;33m:\u001b[0m\u001b[1;33m\u001b[0m\u001b[1;33m\u001b[0m\u001b[0m\n\u001b[0;32m    798\u001b[0m         \u001b[0mself\u001b[0m\u001b[1;33m.\u001b[0m\u001b[0m_runner\u001b[0m \u001b[1;33m=\u001b[0m \u001b[1;32mNone\u001b[0m  \u001b[1;31m# New environment invalidates `self._runner`.\u001b[0m\u001b[1;33m\u001b[0m\u001b[1;33m\u001b[0m\u001b[0m\n\u001b[1;32m--> 799\u001b[1;33m         \u001b[0msuper\u001b[0m\u001b[1;33m(\u001b[0m\u001b[1;33m)\u001b[0m\u001b[1;33m.\u001b[0m\u001b[0mset_env\u001b[0m\u001b[1;33m(\u001b[0m\u001b[0menv\u001b[0m\u001b[1;33m)\u001b[0m\u001b[1;33m\u001b[0m\u001b[1;33m\u001b[0m\u001b[0m\n\u001b[0m\u001b[0;32m    800\u001b[0m \u001b[1;33m\u001b[0m\u001b[0m\n\u001b[0;32m    801\u001b[0m     \u001b[1;33m@\u001b[0m\u001b[0mabstractmethod\u001b[0m\u001b[1;33m\u001b[0m\u001b[1;33m\u001b[0m\u001b[0m\n",
      "\u001b[1;32mD:\\tools\\Anaconda\\envs\\rl_sb\\lib\\site-packages\\stable_baselines\\common\\base_class.py\u001b[0m in \u001b[0;36mset_env\u001b[1;34m(self, env)\u001b[0m\n\u001b[0;32m    135\u001b[0m             \u001b[1;32massert\u001b[0m \u001b[0misinstance\u001b[0m\u001b[1;33m(\u001b[0m\u001b[0menv\u001b[0m\u001b[1;33m,\u001b[0m \u001b[0mVecEnv\u001b[0m\u001b[1;33m)\u001b[0m\u001b[1;33m,\u001b[0m\u001b[0;31m \u001b[0m\u001b[0;31m\\\u001b[0m\u001b[1;33m\u001b[0m\u001b[1;33m\u001b[0m\u001b[0m\n\u001b[0;32m    136\u001b[0m                 \"Error: the environment passed is not a vectorized environment, however {} requires it\".format(\n\u001b[1;32m--> 137\u001b[1;33m                     self.__class__.__name__)\n\u001b[0m\u001b[0;32m    138\u001b[0m             \u001b[1;32massert\u001b[0m \u001b[1;32mnot\u001b[0m \u001b[0mself\u001b[0m\u001b[1;33m.\u001b[0m\u001b[0mpolicy\u001b[0m\u001b[1;33m.\u001b[0m\u001b[0mrecurrent\u001b[0m \u001b[1;32mor\u001b[0m \u001b[0mself\u001b[0m\u001b[1;33m.\u001b[0m\u001b[0mn_envs\u001b[0m \u001b[1;33m==\u001b[0m \u001b[0menv\u001b[0m\u001b[1;33m.\u001b[0m\u001b[0mnum_envs\u001b[0m\u001b[1;33m,\u001b[0m\u001b[0;31m \u001b[0m\u001b[0;31m\\\u001b[0m\u001b[1;33m\u001b[0m\u001b[1;33m\u001b[0m\u001b[0m\n\u001b[0;32m    139\u001b[0m                 \u001b[1;34m\"Error: the environment passed must have the same number of environments as the model was trained on.\"\u001b[0m\u001b[0;31m \u001b[0m\u001b[0;31m\\\u001b[0m\u001b[1;33m\u001b[0m\u001b[1;33m\u001b[0m\u001b[0m\n",
      "\u001b[1;31mAssertionError\u001b[0m: Error: the environment passed is not a vectorized environment, however PPO2 requires it"
     ]
    }
   ],
   "source": [
    "# test agent\n",
    "# multiprocess environment\n",
    "agent = PPO2.load(load_path=os.path.join(currentdir, \"agents\",\"MlpPolicy.zip\"), env=env)\n",
    "done = False\n",
    "obs = env.reset()\n",
    "count = 0\n",
    "while not done:\n",
    "    action, _states = agent.predict(obs)\n",
    "    obs, reward, done, info = env.step(action)\n",
    "    count += 1\n",
    "    done = count > 1000"
   ]
  },
  {
   "cell_type": "code",
   "execution_count": null,
   "metadata": {},
   "outputs": [],
   "source": []
  }
 ],
 "metadata": {
  "kernelspec": {
   "display_name": "Python 3.6.10 64-bit ('rl_sb': conda)",
   "language": "python",
   "name": "python361064bitrlsbconda3b3011dfa4b444b885b5cecd24fd3c9e"
  },
  "language_info": {
   "codemirror_mode": {
    "name": "ipython",
    "version": 3
   },
   "file_extension": ".py",
   "mimetype": "text/x-python",
   "name": "python",
   "nbconvert_exporter": "python",
   "pygments_lexer": "ipython3",
   "version": "3.6.10-final"
  }
 },
 "nbformat": 4,
 "nbformat_minor": 4
}